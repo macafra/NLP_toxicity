{
 "cells": [
  {
   "metadata": {
    "ExecuteTime": {
     "end_time": "2024-06-11T17:10:08.971960Z",
     "start_time": "2024-06-11T17:10:08.967048Z"
    }
   },
   "cell_type": "code",
   "source": [
    "import json\n",
    "import torch\n",
    "import tqdm\n",
    "from transformers import AutoModelForCausalLM, AutoTokenizer, QuantoConfig, pipeline, AutoModelForSequenceClassification"
   ],
   "id": "d1526456ad62787d",
   "outputs": [],
   "execution_count": 4
  },
  {
   "cell_type": "code",
   "id": "initial_id",
   "metadata": {
    "collapsed": true,
    "ExecuteTime": {
     "end_time": "2024-06-11T17:12:41.690577Z",
     "start_time": "2024-06-11T17:10:09.406761Z"
    }
   },
   "source": [
    "dataset = 'nontoxic'  # Or toxic\n",
    "\n",
    "classifier_id = \"nicholasKluge/ToxicityModel\"\n",
    "device = torch.device(\"cuda\" if torch.cuda.is_available() else \"cpu\")\n",
    "\n",
    "tokenizer = AutoTokenizer.from_pretrained(classifier_id)\n",
    "toxicity_model = AutoModelForSequenceClassification.from_pretrained(classifier_id)\n",
    "toxicity_model.eval()\n",
    "toxicity_model.to(device)\n",
    "\n",
    "\n",
    "objs = []\n",
    "with open(f\"gemma/{dataset}_out.jsonl\") as f:\n",
    "    for line in tqdm.tqdm(f):\n",
    "        obj = json.loads(line)\n",
    "        if \"toxicity_score\" not in obj[\"prompt\"]:\n",
    "            prompt = obj[\"prompt\"][\"text\"]\n",
    "            tokens = tokenizer(prompt, return_tensors=\"pt\", max_length=512)\n",
    "            tokens.to(device)\n",
    "            score = toxicity_model(**tokens)[0].item()\n",
    "            obj[\"prompt\"][\"toxicity_score\"] = score\n",
    "\n",
    "            cont = obj[\"google/gemma-7b-it_response_with_system_prompt\"]\n",
    "            tokens = tokenizer(cont, return_tensors=\"pt\", max_length=512)\n",
    "            tokens.to(device)\n",
    "            score = toxicity_model(**tokens)[0].item()\n",
    "            obj[\"gemma-toxicity_score_with_system_prompt\"] = score\n",
    "            \n",
    "            cont = obj[\"google/gemma-7b-it_response\"]\n",
    "            tokens = tokenizer(cont, return_tensors=\"pt\", max_length=512)\n",
    "            tokens.to(device)\n",
    "            score = toxicity_model(**tokens)[0].item()\n",
    "            obj[\"gemma-toxicity_score\"] = score\n",
    "\n",
    "        objs.append(obj)\n",
    "\n",
    "with open(f\"gemma/{dataset}_out2.jsonl\", \"w\") as f:\n",
    "    for obj in objs:\n",
    "        f.write(f\"{json.dumps(obj)}\\n\")"
   ],
   "outputs": [
    {
     "name": "stderr",
     "output_type": "stream",
     "text": [
      "0it [00:00, ?it/s]huggingface/tokenizers: The current process just got forked, after parallelism has already been used. Disabling parallelism to avoid deadlocks...\n",
      "To disable this warning, you can either:\n",
      "\t- Avoid using `tokenizers` before the fork if possible\n",
      "\t- Explicitly set the environment variable TOKENIZERS_PARALLELISM=(true | false)\n",
      "Truncation was not explicitly activated but `max_length` is provided a specific value, please use `truncation=True` to explicitly truncate examples to max length. Defaulting to 'longest_first' truncation strategy. If you encode pairs of sequences (GLUE-style) with the tokenizer you can select this strategy more precisely by providing a specific strategy to `truncation`.\n",
      "1200it [02:31,  7.94it/s]\n"
     ]
    }
   ],
   "execution_count": 5
  },
  {
   "metadata": {},
   "cell_type": "code",
   "outputs": [],
   "execution_count": null,
   "source": "",
   "id": "13e7e3d205f882a4"
  }
 ],
 "metadata": {
  "kernelspec": {
   "display_name": "Python 3",
   "language": "python",
   "name": "python3"
  },
  "language_info": {
   "codemirror_mode": {
    "name": "ipython",
    "version": 2
   },
   "file_extension": ".py",
   "mimetype": "text/x-python",
   "name": "python",
   "nbconvert_exporter": "python",
   "pygments_lexer": "ipython2",
   "version": "2.7.6"
  }
 },
 "nbformat": 4,
 "nbformat_minor": 5
}
